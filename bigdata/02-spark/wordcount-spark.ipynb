{
 "cells": [
  {
   "cell_type": "code",
   "execution_count": null,
   "metadata": {},
   "outputs": [],
   "source": [
    "sc"
   ]
  },
  {
   "cell_type": "code",
   "execution_count": null,
   "metadata": {},
   "outputs": [],
   "source": [
    "# WORDCOUNT COMPACTO\n",
    "files_rdd = sc.textFile(\"s3://emontoyapublic/datasets/gutenberg-small/*.txt\")\n",
    "#files_rdd = sc.textFile(\"hdfs:///user/emontoya/datasets/gutenberg-small/*.txt\")\n",
    "wc_unsort = files_rdd.flatMap(lambda line: line.split()).map(lambda word: (word, 1)).reduceByKey(lambda a, b: a + b)\n",
    "wc = wc_unsort.sortBy(lambda a: -a[1])\n",
    "for tupla in wc.take(10):\n",
    "        print(tupla)"
   ]
  },
  {
   "cell_type": "code",
   "execution_count": null,
   "metadata": {},
   "outputs": [],
   "source": [
    "# WORDCOUNT PASO A PASO"
   ]
  },
  {
   "cell_type": "code",
   "execution_count": null,
   "metadata": {},
   "outputs": [],
   "source": [
    "files_rdd = sc.textFile(\"s3://st0263emontoya/datasets/gutenberg-small/*.txt\")\n",
    "#files = sc.textFile(\"hdfs:///user/emontoya/datasets/gutenberg-small/*.txt\")\n",
    "for f in files_rdd.take(10):\n",
    "    print(f)"
   ]
  },
  {
   "cell_type": "code",
   "execution_count": null,
   "metadata": {},
   "outputs": [],
   "source": [
    "tokens = files_rdd.flatMap(lambda line: line.split())\n",
    "for t in tokens.take(10):\n",
    "    print(t)"
   ]
  },
  {
   "cell_type": "code",
   "execution_count": null,
   "metadata": {},
   "outputs": [],
   "source": [
    "wc1 = tokens.map(lambda word: (word, 1))\n",
    "for c in wc1.take(10):\n",
    "    print(c)"
   ]
  },
  {
   "cell_type": "code",
   "execution_count": null,
   "metadata": {},
   "outputs": [],
   "source": [
    "wc = wc1.reduceByKey(lambda a, b: a + b)\n",
    "for c in wc.take(10):\n",
    "    print(c)"
   ]
  },
  {
   "cell_type": "code",
   "execution_count": null,
   "metadata": {},
   "outputs": [],
   "source": [
    "wcsort = wc.sortBy(lambda a: -a[1])\n",
    "for c in wcsort.take(10):\n",
    "    print(c)"
   ]
  },
  {
   "cell_type": "code",
   "execution_count": null,
   "metadata": {},
   "outputs": [],
   "source": [
    "#salvar los datos de salida, fijarse que no exista: hdfs:///tmp/<your-username>wcout10\n",
    "wc.coalesce(1).saveAsTextFile(\"hdfs:///tmp/<your-username>wcout10\")\n",
    "#si esta trabajando en aws (igual verifique que no exista previamente wcout10):\n",
    "wc.coalesce(1).saveAsTextFile(\"s3://<your-public-bucket>/wcout10\")"
   ]
  }
 ],
 "metadata": {
  "kernelspec": {
   "display_name": "emontoya-pyspark",
   "language": "python",
   "name": "emontoya-pyspark"
  },
  "language_info": {
   "codemirror_mode": {
    "name": "ipython",
    "version": 3
   },
   "file_extension": ".py",
   "mimetype": "text/x-python",
   "name": "python",
   "nbconvert_exporter": "python",
   "pygments_lexer": "ipython3",
   "version": "3.7.6"
  }
 },
 "nbformat": 4,
 "nbformat_minor": 2
}